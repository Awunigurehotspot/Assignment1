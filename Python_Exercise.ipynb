{
 "cells": [
  {
   "cell_type": "markdown",
   "metadata": {},
   "source": [
    "# Assignment"
   ]
  },
  {
   "cell_type": "markdown",
   "metadata": {},
   "source": [
    "1. create four lists:\n",
    "a. Floats\n",
    "b. Ints\n",
    "c. Strings\n",
    "d. Booleans\n",
    "\n",
    "2. Place each item in the \"pythonlist\" in the right set created above.\n",
    "\n",
    "3. For the strings and booleans sets, sort the items\n"
   ]
  },
  {
   "cell_type": "markdown",
   "metadata": {},
   "source": [
    "# Q1"
   ]
  },
  {
   "cell_type": "code",
   "execution_count": 1,
   "metadata": {},
   "outputs": [
    {
     "data": {
      "text/plain": [
       "[45.5, 78.5, 45.3]"
      ]
     },
     "execution_count": 1,
     "metadata": {},
     "output_type": "execute_result"
    }
   ],
   "source": [
    "# (a)\n",
    "Floatslist = [45.5, 78.5, 45.3]\n",
    "Floatslist"
   ]
  },
  {
   "cell_type": "code",
   "execution_count": 2,
   "metadata": {},
   "outputs": [
    {
     "data": {
      "text/plain": [
       "[54, 52, 96, 87, 45, 68, 78, 98, 21, 65, 14, 52]"
      ]
     },
     "execution_count": 2,
     "metadata": {},
     "output_type": "execute_result"
    }
   ],
   "source": [
    "# (b)\n",
    "Intslist = [54, 52, 96, 87, 45, 68, 78, 98, 21, 65, 14, 52]\n",
    "Intslist"
   ]
  },
  {
   "cell_type": "code",
   "execution_count": 3,
   "metadata": {},
   "outputs": [
    {
     "data": {
      "text/plain": [
       "['Ama',\n",
       " 'Kojo',\n",
       " 'Yhup',\n",
       " 'Kwame',\n",
       " 'Kwesi',\n",
       " 'Roland',\n",
       " 'Nti',\n",
       " 'William',\n",
       " 'Patty',\n",
       " 'Adwoa',\n",
       " 'Pappy',\n",
       " 'Folly',\n",
       " 'Pency']"
      ]
     },
     "execution_count": 3,
     "metadata": {},
     "output_type": "execute_result"
    }
   ],
   "source": [
    "Stringslist = ['Ama', 'Kojo', 'Yhup', 'Kwame', 'Kwesi', 'Roland', 'Nti', 'William', 'Patty', 'Adwoa', 'Pappy', 'Folly', 'Pency']\n",
    "Stringslist"
   ]
  },
  {
   "cell_type": "code",
   "execution_count": 4,
   "metadata": {
    "scrolled": true
   },
   "outputs": [
    {
     "data": {
      "text/plain": [
       "[True, False, True, False]"
      ]
     },
     "execution_count": 4,
     "metadata": {},
     "output_type": "execute_result"
    }
   ],
   "source": [
    "Booleanslist = [True, False, True, False]\n",
    "Booleanslist"
   ]
  },
  {
   "cell_type": "code",
   "execution_count": null,
   "metadata": {},
   "outputs": [],
   "source": []
  },
  {
   "cell_type": "markdown",
   "metadata": {},
   "source": [
    "# Q2"
   ]
  },
  {
   "cell_type": "code",
   "execution_count": 5,
   "metadata": {},
   "outputs": [
    {
     "data": {
      "text/plain": [
       "[45.5,\n",
       " 78.5,\n",
       " 45.3,\n",
       " 54,\n",
       " 52,\n",
       " 96,\n",
       " 87,\n",
       " 45,\n",
       " 68,\n",
       " 78,\n",
       " 98,\n",
       " 21,\n",
       " 65,\n",
       " 14,\n",
       " 52,\n",
       " 'Ama',\n",
       " 'Kojo',\n",
       " 'Yhup',\n",
       " 'Kwame',\n",
       " 'Kwesi',\n",
       " 'Roland',\n",
       " 'Nti',\n",
       " 'William',\n",
       " 'Patty',\n",
       " 'Adwoa',\n",
       " 'Pappy',\n",
       " 'Folly',\n",
       " 'Pency',\n",
       " True,\n",
       " False,\n",
       " True,\n",
       " False]"
      ]
     },
     "execution_count": 5,
     "metadata": {},
     "output_type": "execute_result"
    }
   ],
   "source": [
    "pythonlist = []\n",
    "\n",
    "for item in Floatslist, Intslist, Stringslist, Booleanslist:\n",
    "    if item not in pythonlist:\n",
    "        pythonlist.extend(item)\n",
    "    else:\n",
    "        pass\n",
    "pythonlist    "
   ]
  },
  {
   "cell_type": "markdown",
   "metadata": {},
   "source": [
    "# Q3"
   ]
  },
  {
   "cell_type": "code",
   "execution_count": 6,
   "metadata": {},
   "outputs": [
    {
     "data": {
      "text/plain": [
       "['Adwoa',\n",
       " 'Ama',\n",
       " 'Folly',\n",
       " 'Kojo',\n",
       " 'Kwame',\n",
       " 'Kwesi',\n",
       " 'Nti',\n",
       " 'Pappy',\n",
       " 'Patty',\n",
       " 'Pency',\n",
       " 'Roland',\n",
       " 'William',\n",
       " 'Yhup']"
      ]
     },
     "execution_count": 6,
     "metadata": {},
     "output_type": "execute_result"
    }
   ],
   "source": [
    "Stringslist.sort()\n",
    "Stringslist"
   ]
  },
  {
   "cell_type": "code",
   "execution_count": 7,
   "metadata": {},
   "outputs": [
    {
     "data": {
      "text/plain": [
       "[False, False, True, True]"
      ]
     },
     "execution_count": 7,
     "metadata": {},
     "output_type": "execute_result"
    }
   ],
   "source": [
    "Booleanslist.sort()\n",
    "Booleanslist"
   ]
  }
 ],
 "metadata": {
  "kernelspec": {
   "display_name": "Python 3",
   "language": "python",
   "name": "python3"
  },
  "language_info": {
   "codemirror_mode": {
    "name": "ipython",
    "version": 3
   },
   "file_extension": ".py",
   "mimetype": "text/x-python",
   "name": "python",
   "nbconvert_exporter": "python",
   "pygments_lexer": "ipython3",
   "version": "3.8.8"
  }
 },
 "nbformat": 4,
 "nbformat_minor": 2
}
